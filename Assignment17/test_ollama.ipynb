{
 "cells": [
  {
   "cell_type": "code",
   "execution_count": 6,
   "metadata": {},
   "outputs": [],
   "source": [
    "from langchain_ollama import ChatOllama\n",
    "\n",
    "llm = ChatOllama(model=\"deepseek-r1:8b\")"
   ]
  },
  {
   "cell_type": "code",
   "execution_count": 5,
   "metadata": {},
   "outputs": [
    {
     "name": "stdout",
     "output_type": "stream",
     "text": [
      "Collecting langchain-ollama\n",
      "  Downloading langchain_ollama-0.2.3-py3-none-any.whl (19 kB)\n",
      "Collecting langchain-core<0.4.0,>=0.3.33\n",
      "  Downloading langchain_core-0.3.45-py3-none-any.whl (415 kB)\n",
      "     -------------------------------------- 415.9/415.9 kB 3.2 MB/s eta 0:00:00\n",
      "Collecting ollama<1,>=0.4.4\n",
      "  Downloading ollama-0.4.7-py3-none-any.whl (13 kB)\n",
      "Collecting langsmith<0.4,>=0.1.125\n",
      "  Downloading langsmith-0.3.16-py3-none-any.whl (344 kB)\n",
      "     -------------------------------------- 344.5/344.5 kB 3.1 MB/s eta 0:00:00\n",
      "Collecting tenacity!=8.4.0,<10.0.0,>=8.1.0\n",
      "  Downloading tenacity-9.0.0-py3-none-any.whl (28 kB)\n",
      "Collecting jsonpatch<2.0,>=1.33\n",
      "  Downloading jsonpatch-1.33-py2.py3-none-any.whl (12 kB)\n",
      "Collecting PyYAML>=5.3\n",
      "  Downloading PyYAML-6.0.2-cp311-cp311-win_amd64.whl (161 kB)\n",
      "     ------------------------------------ 162.0/162.0 kB 484.8 kB/s eta 0:00:00\n",
      "Requirement already satisfied: packaging<25,>=23.2 in c:\\users\\krish\\appdata\\roaming\\python\\python311\\site-packages (from langchain-core<0.4.0,>=0.3.33->langchain-ollama) (24.2)\n",
      "Requirement already satisfied: typing-extensions>=4.7 in c:\\users\\krish\\appdata\\roaming\\python\\python311\\site-packages (from langchain-core<0.4.0,>=0.3.33->langchain-ollama) (4.12.2)\n",
      "Collecting httpx<0.29,>=0.27\n",
      "  Downloading httpx-0.28.1-py3-none-any.whl (73 kB)\n",
      "     ---------------------------------------- 73.5/73.5 kB 4.0 MB/s eta 0:00:00\n",
      "Collecting pydantic<3.0.0,>=2.9.0\n",
      "  Downloading pydantic-2.10.6-py3-none-any.whl (431 kB)\n",
      "     -------------------------------------- 431.7/431.7 kB 6.7 MB/s eta 0:00:00\n",
      "Collecting anyio\n",
      "  Downloading anyio-4.9.0-py3-none-any.whl (100 kB)\n",
      "     -------------------------------------- 100.9/100.9 kB 5.7 MB/s eta 0:00:00\n",
      "Collecting certifi\n",
      "  Downloading certifi-2025.1.31-py3-none-any.whl (166 kB)\n",
      "     -------------------------------------- 166.4/166.4 kB 5.0 MB/s eta 0:00:00\n",
      "Collecting httpcore==1.*\n",
      "  Downloading httpcore-1.0.7-py3-none-any.whl (78 kB)\n",
      "     ---------------------------------------- 78.6/78.6 kB 4.3 MB/s eta 0:00:00\n",
      "Collecting idna\n",
      "  Downloading idna-3.10-py3-none-any.whl (70 kB)\n",
      "     ---------------------------------------- 70.4/70.4 kB 4.0 MB/s eta 0:00:00\n",
      "Collecting h11<0.15,>=0.13\n",
      "  Downloading h11-0.14.0-py3-none-any.whl (58 kB)\n",
      "     ---------------------------------------- 58.3/58.3 kB 3.2 MB/s eta 0:00:00\n",
      "Collecting jsonpointer>=1.9\n",
      "  Downloading jsonpointer-3.0.0-py2.py3-none-any.whl (7.6 kB)\n",
      "Collecting orjson<4.0.0,>=3.9.14\n",
      "  Downloading orjson-3.10.15-cp311-cp311-win_amd64.whl (133 kB)\n",
      "     -------------------------------------- 133.6/133.6 kB 8.2 MB/s eta 0:00:00\n",
      "Collecting requests<3,>=2\n",
      "  Downloading requests-2.32.3-py3-none-any.whl (64 kB)\n",
      "     ---------------------------------------- 64.9/64.9 kB 3.4 MB/s eta 0:00:00\n",
      "Collecting requests-toolbelt<2.0.0,>=1.0.0\n",
      "  Downloading requests_toolbelt-1.0.0-py2.py3-none-any.whl (54 kB)\n",
      "     ---------------------------------------- 54.5/54.5 kB 2.8 MB/s eta 0:00:00\n",
      "Collecting zstandard<0.24.0,>=0.23.0\n",
      "  Downloading zstandard-0.23.0-cp311-cp311-win_amd64.whl (495 kB)\n",
      "     -------------------------------------- 495.4/495.4 kB 5.2 MB/s eta 0:00:00\n",
      "Collecting annotated-types>=0.6.0\n",
      "  Downloading annotated_types-0.7.0-py3-none-any.whl (13 kB)\n",
      "Collecting pydantic-core==2.27.2\n",
      "  Downloading pydantic_core-2.27.2-cp311-cp311-win_amd64.whl (2.0 MB)\n",
      "     ---------------------------------------- 2.0/2.0 MB 4.7 MB/s eta 0:00:00\n",
      "Collecting charset-normalizer<4,>=2\n",
      "  Downloading charset_normalizer-3.4.1-cp311-cp311-win_amd64.whl (102 kB)\n",
      "     -------------------------------------- 102.4/102.4 kB 5.8 MB/s eta 0:00:00\n",
      "Collecting urllib3<3,>=1.21.1\n",
      "  Downloading urllib3-2.3.0-py3-none-any.whl (128 kB)\n",
      "     -------------------------------------- 128.4/128.4 kB 7.4 MB/s eta 0:00:00\n",
      "Collecting sniffio>=1.1\n",
      "  Downloading sniffio-1.3.1-py3-none-any.whl (10 kB)\n",
      "Installing collected packages: zstandard, urllib3, tenacity, sniffio, PyYAML, pydantic-core, orjson, jsonpointer, idna, h11, charset-normalizer, certifi, annotated-types, requests, pydantic, jsonpatch, httpcore, anyio, requests-toolbelt, httpx, ollama, langsmith, langchain-core, langchain-ollama\n",
      "Successfully installed PyYAML-6.0.2 annotated-types-0.7.0 anyio-4.9.0 certifi-2025.1.31 charset-normalizer-3.4.1 h11-0.14.0 httpcore-1.0.7 httpx-0.28.1 idna-3.10 jsonpatch-1.33 jsonpointer-3.0.0 langchain-core-0.3.45 langchain-ollama-0.2.3 langsmith-0.3.16 ollama-0.4.7 orjson-3.10.15 pydantic-2.10.6 pydantic-core-2.27.2 requests-2.32.3 requests-toolbelt-1.0.0 sniffio-1.3.1 tenacity-9.0.0 urllib3-2.3.0 zstandard-0.23.0\n"
     ]
    },
    {
     "name": "stderr",
     "output_type": "stream",
     "text": [
      "\n",
      "[notice] A new release of pip available: 22.2.2 -> 25.0.1\n",
      "[notice] To update, run: python.exe -m pip install --upgrade pip\n"
     ]
    }
   ],
   "source": [
    "!pip install langchain-ollama\n"
   ]
  },
  {
   "cell_type": "code",
   "execution_count": 7,
   "metadata": {},
   "outputs": [
    {
     "name": "stdout",
     "output_type": "stream",
     "text": [
      "<think>\n",
      "To find the cube root of 27, I can express it mathematically as ∛27. I know that 3 multiplied by itself three times equals 27 because 3 × 3 × 3 = 27. Therefore, the cube root of 27 is 3.\n",
      "</think>\n",
      "\n",
      "**Question:** What is the 3rd root of 27?\n",
      "\n",
      "---\n",
      "\n",
      "To find the **cube root** of 27, follow these steps:\n",
      "\n",
      "1. **Understand the concept:**\n",
      "   \n",
      "   The cube root of a number \\( x \\), denoted as \\( \\sqrt[3]{x} \\), is a number that, when multiplied by itself twice more, gives \\( x \\). In mathematical terms:\n",
      "   \\[\n",
      "   \\sqrt[3]{x} = y \\quad \\text{if and only if} \\quad y \\times y \\times y = x\n",
      "   \\]\n",
      "\n",
      "2. **Apply the definition to 27:**\n",
      "   \n",
      "   We need to find a number \\( y \\) such that:\n",
      "   \\[\n",
      "   y \\times y \\times y = 27\n",
      "   \\]\n",
      "   This simplifies to:\n",
      "   \\[\n",
      "   y^3 = 27\n",
      "   \\]\n",
      "\n",
      "3. **Solve for \\( y \\):**\n",
      "   \n",
      "   To find \\( y \\), take the cube root of both sides:\n",
      "   \\[\n",
      "   y = \\sqrt[3]{27}\n",
      "   \\]\n",
      "   Since \\( 3 \\times 3 \\times 3 = 27 \\):\n",
      "   \\[\n",
      "   y = 3\n",
      "   \\]\n",
      "\n",
      "4. **Final Answer:**\n",
      "   \n",
      "   The cube root of 27 is:\n",
      "   \\[\n",
      "   \\boxed{3}\n",
      "   \\]"
     ]
    }
   ],
   "source": [
    "for chunk in llm.stream(\"What is the 3rd root of 27?\"):\n",
    "    print(chunk.content, end=\"\")"
   ]
  },
  {
   "cell_type": "code",
   "execution_count": null,
   "metadata": {},
   "outputs": [],
   "source": []
  }
 ],
 "metadata": {
  "kernelspec": {
   "display_name": "Python 3",
   "language": "python",
   "name": "python3"
  },
  "language_info": {
   "codemirror_mode": {
    "name": "ipython",
    "version": 3
   },
   "file_extension": ".py",
   "mimetype": "text/x-python",
   "name": "python",
   "nbconvert_exporter": "python",
   "pygments_lexer": "ipython3",
   "version": "3.11.0"
  }
 },
 "nbformat": 4,
 "nbformat_minor": 2
}
